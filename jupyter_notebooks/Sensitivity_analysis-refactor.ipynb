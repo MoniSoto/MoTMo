{
 "cells": [
  {
   "cell_type": "markdown",
   "id": "885f6bf5-fae3-4bd0-868d-fd51171f6cc7",
   "metadata": {},
   "source": [
    "# Sensitivity Analysis\n",
    "\n",
    "We are going to use only three variables $I,\\, P$ and $E$, each of them is a valid boolean string such that together they form a valid scenario (taking into account no more than 2 ones in each variable)."
   ]
  },
  {
   "cell_type": "code",
   "execution_count": 115,
   "id": "ac7a27d4-39a7-4600-bbd1-bd4be224bced",
   "metadata": {},
   "outputs": [],
   "source": [
    "import numpy as np\n",
    "import itertools\n",
    "import pandas as pd\n",
    "import warnings\n",
    "import random\n",
    "import datetime as dt\n",
    "import time\n",
    "import os\n",
    "from os import listdir\n",
    "from os.path import isfile,join\n",
    "import matplotlib.pyplot as plt\n",
    "from scipy.stats import t as tstats"
   ]
  },
  {
   "cell_type": "markdown",
   "id": "70d4bde3-3a45-4803-870f-b67e89c944ab",
   "metadata": {},
   "source": [
    "## Creating input space\n",
    "- $I$ and $P$ are boolean arrays of size three so that they have no 2 consecutive ones.\n",
    "- $E$ is a boolean array of size 4. \n",
    "\n",
    "In total, there are $7*7*11=539$ possible scenarios."
   ]
  },
  {
   "cell_type": "code",
   "execution_count": 116,
   "id": "07d7292c",
   "metadata": {},
   "outputs": [],
   "source": [
    "num_options_per_category = {\n",
    "    'investment' : 3,\n",
    "    'policy' : 3,\n",
    "    'event' : 4\n",
    "}"
   ]
  },
  {
   "cell_type": "code",
   "execution_count": 117,
   "id": "4ab3a4be",
   "metadata": {},
   "outputs": [],
   "source": [
    "def valid_scenarios_for_category(num_options):\n",
    "    total_scenarios = list(itertools.product(range(2), repeat=num_options))\n",
    "    valid_scenarios = [i for i in total_scenarios if sum(i)<3]\n",
    "    return valid_scenarios"
   ]
  },
  {
   "cell_type": "code",
   "execution_count": 118,
   "id": "bed445a6",
   "metadata": {},
   "outputs": [],
   "source": [
    "def generate_input_space_bool(category_options_dict):\n",
    "    valid_scenarios_per_category_list = []\n",
    "    for category, num_options in category_options_dict.items():\n",
    "        valid_scenarios = valid_scenarios_for_category(num_options)\n",
    "        valid_scenarios_per_category_list.append(valid_scenarios)\n",
    "    \n",
    "    # 539 input scenarios in dataset\n",
    "    input_scenarios = list(itertools.product(*valid_scenarios_per_category_list))\n",
    "    return input_scenarios"
   ]
  },
  {
   "cell_type": "code",
   "execution_count": 119,
   "id": "20d57264",
   "metadata": {},
   "outputs": [
    {
     "data": {
      "text/plain": [
       "539"
      ]
     },
     "execution_count": 119,
     "metadata": {},
     "output_type": "execute_result"
    }
   ],
   "source": [
    "input_space = generate_input_space_bool(num_options_per_category)\n",
    "input_space\n",
    "len(input_space)"
   ]
  },
  {
   "cell_type": "markdown",
   "id": "51b3f4e2",
   "metadata": {},
   "source": [
    "### Input space maps (bool <-> decimal)"
   ]
  },
  {
   "cell_type": "code",
   "execution_count": 120,
   "id": "2f5157b0",
   "metadata": {},
   "outputs": [],
   "source": [
    "def input_space_bool_to_decimal_dicts(category_options_dict):\n",
    "    input_space_decimal_dict = {}\n",
    "    \n",
    "    for category, num_options in category_options_dict.items():\n",
    "        valid_scenarios = valid_scenarios_for_category(num_options)\n",
    "        num_scenarios = len(valid_scenarios)\n",
    "        scenerios_decimal = list(range(0,num_scenarios,1))\n",
    "        scenerios_decimal = [i/(num_scenarios - 1) for i in scenerios_decimal]\n",
    "        bool_to_decimal_dict = dict(zip(valid_scenarios,scenerios_decimal))\n",
    "        input_space_decimal_dict[category] = bool_to_decimal_dict\n",
    "    \n",
    "    return input_space_decimal_dict"
   ]
  },
  {
   "cell_type": "code",
   "execution_count": 121,
   "id": "bf26c2eb",
   "metadata": {},
   "outputs": [],
   "source": [
    "def input_space_decimal_to_bool_dicts(category_options_dict):\n",
    "    input_space_decimal_dict = {}\n",
    "    \n",
    "    for category, num_options in category_options_dict.items():\n",
    "        valid_scenarios = valid_scenarios_for_category(num_options)\n",
    "        num_scenarios = len(valid_scenarios)\n",
    "        scenerios_decimal = list(range(0,num_scenarios,1))\n",
    "        scenerios_decimal = [i/(num_scenarios - 1) for i in scenerios_decimal]\n",
    "        bool_to_decimal_dict = dict(zip(scenerios_decimal,valid_scenarios))\n",
    "        input_space_decimal_dict[category] = bool_to_decimal_dict\n",
    "    \n",
    "    return input_space_decimal_dict"
   ]
  },
  {
   "cell_type": "code",
   "execution_count": 122,
   "id": "eecb5352",
   "metadata": {},
   "outputs": [
    {
     "data": {
      "text/plain": [
       "{'investment': {(0, 0, 0): 0.0,\n",
       "  (0, 0, 1): 0.16666666666666666,\n",
       "  (0, 1, 0): 0.3333333333333333,\n",
       "  (0, 1, 1): 0.5,\n",
       "  (1, 0, 0): 0.6666666666666666,\n",
       "  (1, 0, 1): 0.8333333333333334,\n",
       "  (1, 1, 0): 1.0},\n",
       " 'policy': {(0, 0, 0): 0.0,\n",
       "  (0, 0, 1): 0.16666666666666666,\n",
       "  (0, 1, 0): 0.3333333333333333,\n",
       "  (0, 1, 1): 0.5,\n",
       "  (1, 0, 0): 0.6666666666666666,\n",
       "  (1, 0, 1): 0.8333333333333334,\n",
       "  (1, 1, 0): 1.0},\n",
       " 'event': {(0, 0, 0, 0): 0.0,\n",
       "  (0, 0, 0, 1): 0.1,\n",
       "  (0, 0, 1, 0): 0.2,\n",
       "  (0, 0, 1, 1): 0.3,\n",
       "  (0, 1, 0, 0): 0.4,\n",
       "  (0, 1, 0, 1): 0.5,\n",
       "  (0, 1, 1, 0): 0.6,\n",
       "  (1, 0, 0, 0): 0.7,\n",
       "  (1, 0, 0, 1): 0.8,\n",
       "  (1, 0, 1, 0): 0.9,\n",
       "  (1, 1, 0, 0): 1.0}}"
      ]
     },
     "execution_count": 122,
     "metadata": {},
     "output_type": "execute_result"
    }
   ],
   "source": [
    "bool_to_dec_dicts = input_space_bool_to_decimal_dicts(num_options_per_category)\n",
    "bool_to_dec_dicts\n",
    "bool_to_dec_dicts"
   ]
  },
  {
   "cell_type": "code",
   "execution_count": 123,
   "id": "25b4b1bd",
   "metadata": {},
   "outputs": [
    {
     "data": {
      "text/plain": [
       "{'investment': {0.0: (0, 0, 0),\n",
       "  0.16666666666666666: (0, 0, 1),\n",
       "  0.3333333333333333: (0, 1, 0),\n",
       "  0.5: (0, 1, 1),\n",
       "  0.6666666666666666: (1, 0, 0),\n",
       "  0.8333333333333334: (1, 0, 1),\n",
       "  1.0: (1, 1, 0)},\n",
       " 'policy': {0.0: (0, 0, 0),\n",
       "  0.16666666666666666: (0, 0, 1),\n",
       "  0.3333333333333333: (0, 1, 0),\n",
       "  0.5: (0, 1, 1),\n",
       "  0.6666666666666666: (1, 0, 0),\n",
       "  0.8333333333333334: (1, 0, 1),\n",
       "  1.0: (1, 1, 0)},\n",
       " 'event': {0.0: (0, 0, 0, 0),\n",
       "  0.1: (0, 0, 0, 1),\n",
       "  0.2: (0, 0, 1, 0),\n",
       "  0.3: (0, 0, 1, 1),\n",
       "  0.4: (0, 1, 0, 0),\n",
       "  0.5: (0, 1, 0, 1),\n",
       "  0.6: (0, 1, 1, 0),\n",
       "  0.7: (1, 0, 0, 0),\n",
       "  0.8: (1, 0, 0, 1),\n",
       "  0.9: (1, 0, 1, 0),\n",
       "  1.0: (1, 1, 0, 0)}}"
      ]
     },
     "execution_count": 123,
     "metadata": {},
     "output_type": "execute_result"
    }
   ],
   "source": [
    "dec_to_bool_dicts = input_space_decimal_to_bool_dicts(num_options_per_category)\n",
    "dec_to_bool_dicts"
   ]
  },
  {
   "cell_type": "code",
   "execution_count": 124,
   "id": "2c0cb88c",
   "metadata": {},
   "outputs": [],
   "source": [
    "def from_dec_to_bool(row):\n",
    "    d_I = dec_to_bool_dicts['investment']\n",
    "    d_P = dec_to_bool_dicts['policy']\n",
    "    d_E = dec_to_bool_dicts['event']\n",
    "    rbool = [d_I[row[0]], d_P[row[1]], d_E[row[2]]]\n",
    "    return rbool"
   ]
  },
  {
   "cell_type": "code",
   "execution_count": 125,
   "id": "20aadddd",
   "metadata": {},
   "outputs": [
    {
     "data": {
      "text/plain": [
       "{0.0: (0, 0, 0),\n",
       " 0.16666666666666666: (0, 0, 1),\n",
       " 0.3333333333333333: (0, 1, 0),\n",
       " 0.5: (0, 1, 1),\n",
       " 0.6666666666666666: (1, 0, 0),\n",
       " 0.8333333333333334: (1, 0, 1),\n",
       " 1.0: (1, 1, 0)}"
      ]
     },
     "execution_count": 125,
     "metadata": {},
     "output_type": "execute_result"
    }
   ],
   "source": [
    "dec_to_bool_dicts['investment']"
   ]
  },
  {
   "cell_type": "code",
   "execution_count": 126,
   "id": "495d8fb9",
   "metadata": {},
   "outputs": [],
   "source": [
    "# input is a list of tuples [(1,0,0),(0,1,0),(1,0,0,0)]\n",
    "# output 'CH1SP0SE0WE0BP1RE0CO1DI0WO0CS0'\n",
    "def get_scenario_string(boolean_scenario): \n",
    "    bool_sc = list(sum(boolean_scenario,())) # flatten list\n",
    "    list_events = ['CH','SP','SE','WE','BP','RE','CO','DI','WO','CS']\n",
    "    f_n = [l+str(s) for l,s in zip(list_events,bool_sc)]\n",
    "    f_n = ''.join(f_n)\n",
    "    file_name = f_n\n",
    "    return file_name"
   ]
  },
  {
   "cell_type": "markdown",
   "id": "5b1cc63b-7f07-493a-a6bf-620571d6cb28",
   "metadata": {},
   "source": [
    "## Sampling\n",
    "### Variance decomposition\n",
    "We see this model as a function $f(X)=Y$, where the inputs are the scenarios, so $X\\in\\mathbb{R}^d$ and the output is a real value, that in our case, can be the emissions or the mobility choices. First, we are going to do an analysis on (overall) emissions and when we implement it, we can use the othe outputs.\n",
    "\n",
    "The idea consists in estimating certain variances that we are going to define later in order to compute some sesitivity indices (there are first and second order sensitivity indices). We write\n",
    "$$Var(Y)=\\sum_{i=1}^dV_i+\\sum_{i<j}^dV_{ij}+\\ldots+V_{1,2, \\ldots,d}$$where\n",
    "$$V_i=Var_{x_i}(E_{X_{\\sim i}}(Y|X))$$where the $X_{\\sim i}$ notation means the set of all variables except $x_i$.\n",
    "\n",
    "### First Order Index\n",
    "$$S_i= \\frac{V_i}{Var(Y)}$$We can interpret it as follows: \"the fractional reduction in the variance of $Y$ which would be obtained on average if $X$ could be fixed\".\n"
   ]
  },
  {
   "cell_type": "code",
   "execution_count": 127,
   "id": "0811a29c-895f-4a08-ad81-30159fc6496b",
   "metadata": {},
   "outputs": [],
   "source": [
    "def sampling(in_space,N):\n",
    "    AB = random.sample(in_space,2*N)\n",
    "    A = AB[0:N]\n",
    "    B = AB[N:2*N]\n",
    "    return A,B"
   ]
  },
  {
   "cell_type": "code",
   "execution_count": 128,
   "id": "7ca78c83-88c2-46ca-b58a-4a040261db84",
   "metadata": {},
   "outputs": [],
   "source": [
    "def mat_AB_i(A,B): \n",
    "    d = 3\n",
    "    N = len(A)\n",
    "    An,Bn = np.array(A), np.array(B)\n",
    "    AB_mat = np.zeros((d,N,d))\n",
    "    for i in range(0,d):\n",
    "        AB_mat[i] = An\n",
    "        AB_mat[i][:,i] = Bn[:,i]\n",
    "    return AB_mat"
   ]
  },
  {
   "cell_type": "code",
   "execution_count": 129,
   "id": "4e324809",
   "metadata": {},
   "outputs": [],
   "source": [
    "def generate_inputs_d(inputs, input_space_bool_to_decimal_dicts):\n",
    "    inputs_d = []\n",
    "    for i in inputs:\n",
    "        dict_I = input_space_bool_to_decimal_dicts['investment']\n",
    "        dict_P = input_space_bool_to_decimal_dicts['policy']\n",
    "        dict_E = input_space_bool_to_decimal_dicts['event']\n",
    "        t = [dict_I[i[0]], dict_P[i[1]], dict_E[i[2]]]\n",
    "        inputs_d.append(t)\n",
    "    return inputs_d"
   ]
  },
  {
   "cell_type": "markdown",
   "id": "ed66a003-84fd-47d2-b7d0-23ee06faf757",
   "metadata": {},
   "source": [
    "## Estimating\n",
    "To compute the variance, we can use the following estimator: $$Var_{x_i}(E_{X_{\\sim i}}(Y|X))\\approx \\frac{1}{N}\\sum_{i=1}^Nf(B)_j\\left(f(A_B^i)_j-f(A)_j\\right)$$\n",
    "\n",
    "First, get outputs and then compute the variance"
   ]
  },
  {
   "cell_type": "code",
   "execution_count": 130,
   "id": "eb14d4d6",
   "metadata": {},
   "outputs": [],
   "source": [
    "# input is a list of tuples [(1,0,0),(0,1,0),(1,0,0,0)]\n",
    "# output 'CH1SP0SE0WE0BP1RE0CO1DI0WO0CS0'\n",
    "def get_scenario_string(boolean_scenario): \n",
    "    bool_sc = list(sum(boolean_scenario,())) # flatten list\n",
    "    list_events = ['CH','SP','SE','WE','BP','RE','CO','DI','WO','CS']\n",
    "    f_n = [l+str(s) for l,s in zip(list_events,bool_sc)]\n",
    "    f_n = ''.join(f_n)\n",
    "    file_name = f_n\n",
    "    return file_name"
   ]
  },
  {
   "cell_type": "code",
   "execution_count": 131,
   "id": "b133c175-29c0-4645-a234-85aa19477057",
   "metadata": {},
   "outputs": [],
   "source": [
    "# df: dataframe (e.g. total emissions df)\n",
    "# M: matrix, make sure it is a list\n",
    "def get_output(df, M):\n",
    "    out_vector = []\n",
    "    n = len(M)\n",
    "    for i in range(0,n):\n",
    "        dec_row = M[i]\n",
    "        row_bool = from_dec_to_bool(dec_row)\n",
    "        string = get_scenario_string(row_bool)\n",
    "        cond = (df['scenario'] == string)\n",
    "        outp = df[cond].total_emissions.values[0]\n",
    "        out_vector.append(outp)\n",
    "    return out_vector"
   ]
  },
  {
   "cell_type": "code",
   "execution_count": 132,
   "id": "48b134fb-1f63-440b-bdb2-98578be83951",
   "metadata": {},
   "outputs": [],
   "source": [
    "# this function takes as input the matrices A and B\n",
    "# and the original matrix ABi. \n",
    "# the index i at the end is the variable name, it can be 0, 1 or 2\n",
    "def get_var_xi(df, A,B,ABi,i):\n",
    "    ABi = ABi[i].tolist() # add '.astype(int)' in the middle if there are any probs with type\n",
    "    out_A = get_output(df, A)\n",
    "    out_B = get_output(df, B)\n",
    "    out_ABi = get_output(df, ABi)    \n",
    "    N = len(A)\n",
    "    var = 0\n",
    "    for j in range(0,N):\n",
    "        var = out_B[j]*(out_ABi[j]-out_A[j])+var\n",
    "    var = var/N\n",
    "    return var"
   ]
  },
  {
   "cell_type": "markdown",
   "id": "1adddb90-4e1c-46ce-a527-7c982b277542",
   "metadata": {},
   "source": [
    "## Compute sensitivity indices"
   ]
  },
  {
   "cell_type": "code",
   "execution_count": 133,
   "id": "8909cd2f",
   "metadata": {},
   "outputs": [],
   "source": [
    "total_emissions_df = pd.read_csv(\"total_emissions.csv\")"
   ]
  },
  {
   "cell_type": "code",
   "execution_count": 134,
   "id": "af4a255c",
   "metadata": {},
   "outputs": [],
   "source": [
    "num_samples = 100"
   ]
  },
  {
   "cell_type": "code",
   "execution_count": 135,
   "id": "864e6629-9e08-4907-a0af-90d74aa2450b",
   "metadata": {},
   "outputs": [],
   "source": [
    "def calculate_sensitivity_indices(df, col_name, num_samples):\n",
    "    total_samples = 2*num_samples\n",
    "    input_space = generate_input_space_bool(num_options_per_category)\n",
    "    input_bool_dec_dicts = input_space_bool_to_decimal_dicts(num_options_per_category)\n",
    "    inputs_d = generate_inputs_d(input_space, input_bool_dec_dicts)\n",
    "    A, B = sampling(inputs_d, total_samples)\n",
    "#     AB = random.sample(inputs_d,total_samples)\n",
    "#     A = AB[0:num_samples]\n",
    "#     B = AB[num_samples:total_samples]\n",
    "#     AB = np.zeros((3,num_samples,3))\n",
    "#     Ant,Bnt = np.array(A), np.array(B)\n",
    "#     AB[0] = Ant\n",
    "#     AB[0][:,0] = Bnt[:,0]\n",
    "    ABi = mat_AB_i(A,B)\n",
    "    \n",
    "    varI = get_var_xi(df, A,B,ABi,0)\n",
    "    varP = get_var_xi(df, A,B,ABi,1)\n",
    "    varE = get_var_xi(df, A,B,ABi,2)\n",
    "    \n",
    "    varY = df[col_name].var(axis=0)\n",
    "    \n",
    "    S_I = varI / varY\n",
    "    S_P = varP / varY\n",
    "    S_E = varE / varY\n",
    "    \n",
    "    sensitivity_indices_dict = {\n",
    "        'investment' : S_I,\n",
    "        'policy' : S_P,\n",
    "        'event' : S_E\n",
    "    }\n",
    "    \n",
    "    return sensitivity_indices_dict"
   ]
  },
  {
   "cell_type": "code",
   "execution_count": 136,
   "id": "c84140e7",
   "metadata": {},
   "outputs": [
    {
     "data": {
      "text/plain": [
       "{'investment': -0.20471642413622088,\n",
       " 'policy': 0.08586955444575066,\n",
       " 'event': 0.39496765449098337}"
      ]
     },
     "execution_count": 136,
     "metadata": {},
     "output_type": "execute_result"
    }
   ],
   "source": [
    "sensitivity_indices = calculate_sensitivity_indices(total_emissions_df, 'total_emissions', num_samples)\n",
    "sensitivity_indices"
   ]
  },
  {
   "cell_type": "code",
   "execution_count": 137,
   "id": "0a3a5708",
   "metadata": {},
   "outputs": [
    {
     "name": "stdout",
     "output_type": "stream",
     "text": [
      "- The sensitivity of the investment category is -0.20471642413622088\n",
      "- The sensitivity of the policy category is 0.08586955444575066\n",
      "- The sensitivity of the event category is 0.39496765449098337\n"
     ]
    }
   ],
   "source": [
    "for category_str, sensitivity_index in sensitivity_indices.items():\n",
    "    print(f'- The sensitivity of the {category_str} category is {str(sensitivity_index)}')"
   ]
  },
  {
   "cell_type": "markdown",
   "id": "58dc2c8b",
   "metadata": {},
   "source": [
    "### Calculate confidence intervals"
   ]
  },
  {
   "cell_type": "code",
   "execution_count": 138,
   "id": "1a27c741",
   "metadata": {},
   "outputs": [],
   "source": [
    "# dataset input needs to be np array\n",
    "def calculate_confidence_intervals(dataset, confidence):\n",
    "    mean = dataset.mean() \n",
    "    s_dev = dataset.std() \n",
    "    num_datapoints = len(dataset)\n",
    "    dof = num_datapoints-1 \n",
    "    t_crit = np.abs(tstats.ppf((1-confidence)/2,dof))\n",
    "    confidence_interval = (mean-s_dev*t_crit/np.sqrt(num_datapoints), mean+s_dev*t_crit/np.sqrt(num_datapoints)) \n",
    "    return confidence_interval"
   ]
  },
  {
   "cell_type": "markdown",
   "id": "44445401",
   "metadata": {},
   "source": [
    "### Sensitivity Analysis \n",
    "Multiple runs of computing the sensitivity indices for each category with a given number of samples.\n",
    "Compute the mean and the 95% confidence interval for each category"
   ]
  },
  {
   "cell_type": "code",
   "execution_count": 139,
   "id": "2cfa049b",
   "metadata": {},
   "outputs": [],
   "source": [
    "def sensitivity_analysis(num_runs, df, col_name, num_samples):\n",
    "    S1_I_arr = []\n",
    "    S1_P_arr = []\n",
    "    S1_E_arr = []\n",
    "    for i in range (0, num_runs):\n",
    "        sensitivity_indices = calculate_sensitivity_indices(total_emissions_df, 'total_emissions', 8)\n",
    "        S1_I_arr.append(sensitivity_indices['investment'])\n",
    "        S1_P_arr.append(sensitivity_indices['policy'])\n",
    "        S1_E_arr.append(sensitivity_indices['event'])\n",
    "        \n",
    "    S1_I_np_arr = np.array(S1_I_arr)\n",
    "    S1_I = S1_I_np_arr.mean()\n",
    "    S1_I_conf = calculate_confidence_intervals(S1_I_np_arr, 0.95)\n",
    "    S1_P_np_arr = np.array(S1_P_arr)\n",
    "    S1_P = S1_P_np_arr.mean()\n",
    "    S1_P_conf = calculate_confidence_intervals(S1_P_np_arr, 0.95)\n",
    "    S1_E_np_arr = np.array(S1_E_arr)\n",
    "    S1_E = S1_E_np_arr.mean()\n",
    "    S1_E_conf = calculate_confidence_intervals(S1_E_np_arr, 0.95)\n",
    "    \n",
    "    sensitivity_indices_dict = {\n",
    "        'investment' : {\n",
    "            'S1' : S1_I,\n",
    "            'S1_conf' : S1_I_conf\n",
    "        },\n",
    "        'policy' : {\n",
    "            'S1' : S1_P,\n",
    "            'S1_conf' : S1_P_conf\n",
    "        },\n",
    "        'event' : {\n",
    "            'S1' : S1_E,\n",
    "            'S1_conf' : S1_E_conf    \n",
    "        }\n",
    "    }\n",
    "    return sensitivity_indices_dict"
   ]
  },
  {
   "cell_type": "code",
   "execution_count": 140,
   "id": "19f251b5",
   "metadata": {},
   "outputs": [],
   "source": [
    "num_runs = 2000"
   ]
  },
  {
   "cell_type": "code",
   "execution_count": 141,
   "id": "2f9daa74",
   "metadata": {},
   "outputs": [],
   "source": [
    "sa_result = sensitivity_analysis(num_runs, total_emissions_df, 'total_emissions', num_samples)"
   ]
  },
  {
   "cell_type": "code",
   "execution_count": 142,
   "id": "418df187",
   "metadata": {},
   "outputs": [
    {
     "name": "stdout",
     "output_type": "stream",
     "text": [
      "{'investment': {'S1': 0.06067976756086243, 'S1_conf': (0.013467257514839702, 0.10789227760688516)}, 'policy': {'S1': 1.2232318806860702, 'S1_conf': (0.736283541211185, 1.7101802201609555)}, 'event': {'S1': -0.038310546110087204, 'S1_conf': (-0.16295469778489208, 0.08633360556471768)}}\n"
     ]
    }
   ],
   "source": [
    "print(sa_result)"
   ]
  },
  {
   "cell_type": "code",
   "execution_count": 143,
   "id": "fd1b3a9b",
   "metadata": {},
   "outputs": [
    {
     "name": "stdout",
     "output_type": "stream",
     "text": [
      "SENSITIVITY ANALYSIS FOR 2000 RUNS, SAMPLE SIZE = 100\n",
      " investment\n",
      " - S1: 0.06067976756086243\n",
      " - S1_conf: (0.013467257514839702, 0.10789227760688516)\n",
      " policy\n",
      " - S1: 1.2232318806860702\n",
      " - S1_conf: (0.736283541211185, 1.7101802201609555)\n",
      " event\n",
      " - S1: -0.038310546110087204\n",
      " - S1_conf: (-0.16295469778489208, 0.08633360556471768)\n"
     ]
    }
   ],
   "source": [
    "print(f'SENSITIVITY ANALYSIS FOR {str(num_runs)} RUNS, SAMPLE SIZE = {str(num_samples)}')\n",
    "for category_str, stats in sa_result.items():\n",
    "    print(f' {category_str}')\n",
    "    for stat_key, value in stats.items():\n",
    "        print(f' - {stat_key}: {value}')"
   ]
  },
  {
   "cell_type": "code",
   "execution_count": null,
   "id": "14a8443a",
   "metadata": {},
   "outputs": [],
   "source": []
  }
 ],
 "metadata": {
  "kernelspec": {
   "display_name": "Python 3 (ipykernel)",
   "language": "python",
   "name": "python3"
  },
  "language_info": {
   "codemirror_mode": {
    "name": "ipython",
    "version": 3
   },
   "file_extension": ".py",
   "mimetype": "text/x-python",
   "name": "python",
   "nbconvert_exporter": "python",
   "pygments_lexer": "ipython3",
   "version": "3.8.11"
  }
 },
 "nbformat": 4,
 "nbformat_minor": 5
}
